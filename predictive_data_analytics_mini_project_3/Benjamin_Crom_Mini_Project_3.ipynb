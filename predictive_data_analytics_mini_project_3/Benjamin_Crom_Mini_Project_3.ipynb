{
 "cells": [
  {
   "cell_type": "markdown",
   "metadata": {},
   "source": [
    "### Benjamin Crom (Panther# 002-36-7349)\n",
    "__Mini-Project 3: K-means Clustering and Breast Cancer__<br>\n",
    "__CS 6980: Introduction to Data Science__<br>\n",
    "__26 February 2018__"
   ]
  },
  {
   "cell_type": "markdown",
   "metadata": {
    "collapsed": true
   },
   "source": [
    "![title](assignment.png)"
   ]
  },
  {
   "cell_type": "code",
   "execution_count": 1,
   "metadata": {},
   "outputs": [],
   "source": [
    "import collections\n",
    "\n",
    "import matplotlib.pyplot\n",
    "import numpy"
   ]
  },
  {
   "cell_type": "markdown",
   "metadata": {},
   "source": [
    "![title](fig_a1.png)"
   ]
  },
  {
   "cell_type": "code",
   "execution_count": 2,
   "metadata": {
    "collapsed": true
   },
   "outputs": [],
   "source": [
    "def create_group_vector(matrix_X, center_matrix_mu):\n",
    "    group_list = []\n",
    "    for this_feature_vector in matrix_X:\n",
    "        nearest_center_vector_index, min_distance = None, None\n",
    "        for i, this_center_vector in enumerate(center_matrix_mu):\n",
    "            this_distance = numpy.linalg.norm(this_feature_vector - this_center_vector)\n",
    "            if not min_distance or this_distance < min_distance:\n",
    "                min_distance = this_distance\n",
    "                nearest_center_vector_index = i\n",
    "\n",
    "        if nearest_center_vector_index is not None:\n",
    "            group_list.append(nearest_center_vector_index)\n",
    "        else:\n",
    "            raise ValueError('No nearest center vector value')\n",
    "\n",
    "    return numpy.array(group_list)\n",
    "\n",
    "\n",
    "def generate_center_matrix_from_group_vector(matrix_X, num_clusters_k, group_vector):\n",
    "    new_center_vector_list = []\n",
    "    for i in range(num_clusters_k):\n",
    "        group_feature_matrix = matrix_X[group_vector == i]\n",
    "        group_centroid = group_feature_matrix.mean(axis=0)\n",
    "        new_center_vector_list.append(group_centroid)\n",
    "\n",
    "    center_matrix_mu = numpy.matrix(numpy.array(new_center_vector_list))\n",
    "    return center_matrix_mu\n",
    "\n",
    "\n",
    "def perform_k_means_clustering(matrix_X, num_clusters_k, center_matrix_mu, tolerance, max_iteration_limit):\n",
    "    group_vector = create_group_vector(matrix_X, center_matrix_mu)\n",
    "\n",
    "    old_center_matrix_mu = None\n",
    "    change = tolerance + 1\n",
    "    i = 0\n",
    "    while change > tolerance and i < max_iteration_limit:\n",
    "        old_center_matrix_mu = center_matrix_mu\n",
    "        center_matrix_mu = generate_center_matrix_from_group_vector(matrix_X, num_clusters_k, group_vector)\n",
    "        change = numpy.linalg.norm(old_center_matrix_mu - center_matrix_mu)\n",
    "        group_vector = create_group_vector(matrix_X, center_matrix_mu)            \n",
    "        i += 1\n",
    "\n",
    "    return group_vector"
   ]
  },
  {
   "cell_type": "markdown",
   "metadata": {},
   "source": [
    "![title](fig_b.png)"
   ]
  },
  {
   "cell_type": "code",
   "execution_count": 3,
   "metadata": {},
   "outputs": [
    {
     "data": {
      "text/plain": [
       "array([1, 1, 1, 0, 1, 0, 1, 0, 0, 0, 0, 1, 1, 0, 0, 0, 0, 1, 1, 0, 0, 0,\n",
       "       0, 1, 1, 1, 0, 1, 1, 1, 1, 0, 1, 1, 1, 1, 0, 0, 0, 0, 0, 0, 1, 0,\n",
       "       0, 1, 0, 0, 0, 0, 0, 0, 0, 1, 0, 0, 1, 0, 0, 0, 0, 0, 0, 0, 0, 0,\n",
       "       0, 0, 0, 0, 1, 0, 1, 0, 0, 1, 0, 1, 1, 0, 0, 0, 1, 1, 0, 1, 0, 1,\n",
       "       0, 0, 0, 0, 0, 0, 0, 1, 0, 0, 0, 0, 0, 0, 0, 0, 0, 0, 0, 0, 1, 0,\n",
       "       0, 0, 0, 0, 0, 0, 0, 0, 1, 1, 0, 1, 1, 0, 0, 0, 0, 1, 0, 1, 0, 0,\n",
       "       0, 0, 1, 0, 0, 0, 0, 0, 0, 1, 0, 0, 0, 0, 0, 0, 0, 0, 0, 0, 0, 0,\n",
       "       0, 0, 1, 0, 0, 0, 0, 1, 1, 0, 1, 0, 0, 1, 1, 0, 0, 0, 0, 0, 0, 0,\n",
       "       0, 0, 0, 0, 1, 1, 1, 0, 0, 0, 1, 0, 0, 0, 0, 0, 0, 0, 0, 0, 0, 1,\n",
       "       1, 0, 0, 1, 1, 0, 0, 0, 0, 1, 0, 0, 1, 0, 1, 0, 0, 0, 0, 0, 1, 1,\n",
       "       0, 0, 0, 0, 0, 0, 0, 0, 0, 0, 1, 0, 0, 1, 0, 0, 1, 1, 0, 1, 0, 0,\n",
       "       0, 0, 1, 0, 0, 0, 0, 0, 1, 0, 1, 1, 1, 0, 1, 0, 1, 0, 1, 1, 1, 0,\n",
       "       1, 1, 0, 0, 0, 0, 0, 0, 1, 0, 1, 0, 0, 1, 0, 0, 1, 0, 1, 0, 0, 0,\n",
       "       0, 0, 0, 0, 0, 0, 0, 0, 0, 0, 0, 0, 0, 0, 1, 0, 1, 0, 0, 0, 0, 0,\n",
       "       0, 0, 0, 0, 0, 0, 0, 0, 0, 1, 0, 0, 0, 1, 0, 1, 0, 0, 0, 0, 0, 0,\n",
       "       0, 0, 0, 0, 0, 1, 0, 1, 0, 1, 0, 0, 0, 1, 0, 0, 0, 0, 0, 0, 0, 0,\n",
       "       1, 0, 0, 0, 0, 0, 0, 0, 0, 0, 0, 0, 0, 1, 1, 0, 1, 1, 0, 0, 1, 1,\n",
       "       0, 0, 0, 0, 0, 0, 0, 0, 0, 0, 0, 0, 0, 0, 0, 1, 0, 0, 1, 1, 0, 0,\n",
       "       0, 0, 0, 0, 1, 0, 0, 0, 0, 0, 0, 0, 1, 0, 0, 0, 0, 0, 0, 0, 0, 1,\n",
       "       0, 0, 0, 0, 0, 0, 0, 0, 0, 0, 0, 0, 0, 0, 1, 1, 0, 0, 0, 0, 0, 0,\n",
       "       0, 1, 0, 0, 1, 0, 1, 0, 0, 1, 0, 1, 0, 0, 0, 0, 0, 0, 0, 0, 1, 1,\n",
       "       0, 0, 0, 0, 0, 0, 1, 0, 0, 0, 0, 0, 0, 0, 0, 0, 0, 0, 0, 0, 0, 0,\n",
       "       0, 0, 0, 1, 0, 0, 0, 1, 1, 0, 0, 0, 0, 0, 1, 1, 0, 0, 0, 1, 0, 0,\n",
       "       0, 0, 0, 0, 0, 0, 0, 0, 0, 0, 1, 1, 0, 0, 0, 1, 0, 0, 0, 0, 0, 0,\n",
       "       0, 0, 0, 0, 0, 1, 0, 1, 0, 0, 0, 0, 0, 0, 0, 0, 0, 0, 0, 0, 0, 0,\n",
       "       0, 0, 0, 0, 0, 0, 0, 0, 0, 0, 0, 0, 0, 1, 1, 1, 0, 1, 0])"
      ]
     },
     "execution_count": 3,
     "metadata": {},
     "output_type": "execute_result"
    }
   ],
   "source": [
    "NUM_CLUSTERS = 2\n",
    "TOLERANCE = 0.01\n",
    "MAX_ITER = 1000\n",
    "\n",
    "csv_array = numpy.genfromtxt('breast_data.csv', delimiter=',')\n",
    "breast_data_matrix = numpy.matrix(csv_array)\n",
    "\n",
    "group_vector = numpy.random.randint(NUM_CLUSTERS, size=len(breast_data_matrix))  # Random partition into k clusters\n",
    "center_matrix_mu = generate_center_matrix_from_group_vector(breast_data_matrix, NUM_CLUSTERS, group_vector)\n",
    "k_means_result = perform_k_means_clustering(breast_data_matrix, NUM_CLUSTERS, center_matrix_mu, TOLERANCE, MAX_ITER)\n",
    "k_means_result"
   ]
  },
  {
   "cell_type": "markdown",
   "metadata": {},
   "source": [
    "![title](fig_c.png)"
   ]
  },
  {
   "cell_type": "code",
   "execution_count": 4,
   "metadata": {},
   "outputs": [
    {
     "name": "stdout",
     "output_type": "stream",
     "text": [
      "Accuracy: 85.41%\n"
     ]
    }
   ],
   "source": [
    "csv_array = numpy.genfromtxt('breast_truth.csv', delimiter=',')\n",
    "breast_truth_array = numpy.array(csv_array)\n",
    "accuracy = round(\n",
    "    100 * collections.Counter(k_means_result == breast_truth_array)[True] / len(breast_truth_array),\n",
    "    2\n",
    ")\n",
    "print(f'Accuracy: {accuracy}%')"
   ]
  },
  {
   "cell_type": "markdown",
   "metadata": {},
   "source": [
    "![title](fig_d.png)"
   ]
  },
  {
   "cell_type": "code",
   "execution_count": 17,
   "metadata": {},
   "outputs": [
    {
     "name": "stdout",
     "output_type": "stream",
     "text": [
      "Choosing entries 218 and 561 as starting centers yields an accuracy of 85.41%\n",
      "Choosing entries 148 and 373 as starting centers yields an accuracy of 85.41%\n",
      "Choosing entries 356 and 342 as starting centers yields an accuracy of 85.41%\n",
      "Choosing entries 508 and 296 as starting centers yields an accuracy of 85.41%\n",
      "Choosing entries 338 and 255 as starting centers yields an accuracy of 85.41%\n",
      "Choosing entries 489 and 271 as starting centers yields an accuracy of 85.41%\n",
      "Choosing entries 21 and 248 as starting centers yields an accuracy of 85.41%\n",
      "Choosing entries 185 and 552 as starting centers yields an accuracy of 85.41%\n",
      "Choosing entries 470 and 510 as starting centers yields an accuracy of 85.41%\n",
      "Choosing entries 459 and 234 as starting centers yields an accuracy of 85.41%\n",
      "Choosing entries 163 and 393 as starting centers yields an accuracy of 85.41%\n",
      "Choosing entries 15 and 102 as starting centers yields an accuracy of 85.41%\n",
      "Choosing entries 498 and 58 as starting centers yields an accuracy of 85.41%\n",
      "Choosing entries 511 and 395 as starting centers yields an accuracy of 85.41%\n",
      "Choosing entries 449 and 325 as starting centers yields an accuracy of 85.41%\n",
      "Choosing entries 550 and 322 as starting centers yields an accuracy of 85.41%\n",
      "Choosing entries 61 and 220 as starting centers yields an accuracy of 85.41%\n",
      "Choosing entries 352 and 186 as starting centers yields an accuracy of 85.41%\n",
      "Choosing entries 532 and 156 as starting centers yields an accuracy of 85.41%\n",
      "Choosing entries 388 and 501 as starting centers yields an accuracy of 85.41%\n",
      "\n",
      "The results do not change no matter which feature vectors I use as my starting centers.\n",
      "This suggests that the dataset is convex and the only local optimum is also a global optimum.\n"
     ]
    }
   ],
   "source": [
    "for i in range(20):\n",
    "    random_rows = numpy.random.randint(len(breast_data_matrix), size=NUM_CLUSTERS)  # Pick random feature vectors\n",
    "    random_center_matrix = breast_data_matrix[random_rows,:]\n",
    "    k_means_result = perform_k_means_clustering(breast_data_matrix, NUM_CLUSTERS, center_matrix_mu, TOLERANCE, MAX_ITER)\n",
    "    accuracy = round(\n",
    "        100 * collections.Counter(k_means_result == breast_truth_array)[True] / len(breast_truth_array),\n",
    "        2\n",
    "    )\n",
    "\n",
    "    print(f'Choosing entries {random_rows[0]} and {random_rows[1]} as starting centers '\n",
    "          f'yields an accuracy of {accuracy}%')\n",
    "    \n",
    "print('')\n",
    "print('The results do not change no matter which feature vectors I use as my starting centers.')\n",
    "print('This suggests that the dataset is convex and the only local optimum is also a global optimum.')"
   ]
  },
  {
   "cell_type": "markdown",
   "metadata": {},
   "source": [
    "![title](fig_e.png)"
   ]
  },
  {
   "cell_type": "code",
   "execution_count": null,
   "metadata": {
    "collapsed": true
   },
   "outputs": [],
   "source": []
  },
  {
   "cell_type": "markdown",
   "metadata": {},
   "source": [
    "![title](fig_f1.png)"
   ]
  },
  {
   "cell_type": "code",
   "execution_count": 11,
   "metadata": {},
   "outputs": [
    {
     "name": "stdout",
     "output_type": "stream",
     "text": [
      "Accuracy: 85.41%\n"
     ]
    }
   ],
   "source": [
    "generate_center_matrix_from_group_vector(breast_data_matrix, NUM_CLUSTERS, breast_truth_array)\n",
    "k_means_result = perform_k_means_clustering(breast_data_matrix, NUM_CLUSTERS, center_matrix_mu, TOLERANCE, MAX_ITER)\n",
    "accuracy = round(\n",
    "    100 * collections.Counter(k_means_result == breast_truth_array)[True] / len(breast_truth_array),\n",
    "    2\n",
    ")\n",
    "print(f'Accuracy: {accuracy}%')"
   ]
  },
  {
   "cell_type": "markdown",
   "metadata": {},
   "source": [
    "![title](fig_g.png)"
   ]
  },
  {
   "cell_type": "code",
   "execution_count": null,
   "metadata": {
    "collapsed": true
   },
   "outputs": [],
   "source": []
  }
 ],
 "metadata": {
  "kernelspec": {
   "display_name": "Python 3",
   "language": "python",
   "name": "python3"
  },
  "language_info": {
   "codemirror_mode": {
    "name": "ipython",
    "version": 3
   },
   "file_extension": ".py",
   "mimetype": "text/x-python",
   "name": "python",
   "nbconvert_exporter": "python",
   "pygments_lexer": "ipython3",
   "version": "3.6.4"
  }
 },
 "nbformat": 4,
 "nbformat_minor": 2
}
