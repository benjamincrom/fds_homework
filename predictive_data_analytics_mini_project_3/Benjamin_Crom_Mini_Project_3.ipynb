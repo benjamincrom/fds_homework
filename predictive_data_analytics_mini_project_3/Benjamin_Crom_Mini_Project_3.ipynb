{
 "cells": [
  {
   "cell_type": "markdown",
   "metadata": {},
   "source": [
    "### Benjamin Crom (Panther# 002-36-7349)\n",
    "__Mini-Project 3: K-means Clustering and Breast Cancer__<br>\n",
    "__CS 6980: Introduction to Data Science__<br>\n",
    "__26 February 2018__"
   ]
  },
  {
   "cell_type": "markdown",
   "metadata": {
    "collapsed": true
   },
   "source": [
    "![title](assignment.png)"
   ]
  },
  {
   "cell_type": "code",
   "execution_count": 1,
   "metadata": {
    "collapsed": true
   },
   "outputs": [],
   "source": [
    "import collections\n",
    "import numpy\n",
    "import scipy.io"
   ]
  },
  {
   "cell_type": "markdown",
   "metadata": {},
   "source": [
    "![title](fig_a1.png)"
   ]
  },
  {
   "cell_type": "code",
   "execution_count": 2,
   "metadata": {
    "collapsed": true
   },
   "outputs": [],
   "source": [
    "def create_group_vector(matrix_X, center_matrix_mu):\n",
    "    \"\"\"Assign points to current centers\"\"\"\n",
    "    group_list = []\n",
    "    for this_feature_vector in matrix_X:\n",
    "        nearest_center_vector_index = None\n",
    "        min_distance = None\n",
    "        for i, this_center_vector in enumerate(center_matrix_mu):\n",
    "            this_distance = numpy.linalg.norm(\n",
    "                this_feature_vector - this_center_vector\n",
    "            )\n",
    "\n",
    "            if not min_distance or this_distance < min_distance:\n",
    "                min_distance = this_distance\n",
    "                nearest_center_vector_index = i\n",
    "\n",
    "        if nearest_center_vector_index is not None:\n",
    "            group_list.append(nearest_center_vector_index)\n",
    "        else:\n",
    "            raise ValueError('No nearest center vector value')\n",
    "\n",
    "    group_vector = numpy.array(group_list)\n",
    "    return group_vector\n",
    "\n",
    "\n",
    "def generate_center_matrix(matrix_X, num_clusters_k, group_vector):\n",
    "    \"\"\"Recalculate centers\"\"\"\n",
    "    new_center_vector_list = []\n",
    "    for i in range(num_clusters_k):\n",
    "        group_feature_matrix = matrix_X[group_vector == i]\n",
    "        group_centroid = group_feature_matrix.mean(axis=0)\n",
    "        new_center_vector_list.append(group_centroid)\n",
    "\n",
    "    center_vector_array = numpy.array(new_center_vector_list)\n",
    "    center_matrix_mu = numpy.matrix(center_vector_array)\n",
    "    return center_matrix_mu\n",
    "\n",
    "\n",
    "def perform_k_means_clustering(matrix_X, num_clusters_k, center_matrix_mu,\n",
    "                               tolerance, max_iteration_limit):\n",
    "    group_vector = create_group_vector(matrix_X, center_matrix_mu)\n",
    "    change = tolerance + 1\n",
    "    old_center_matrix_mu = None\n",
    "    i = 0\n",
    "    while change > tolerance and i < max_iteration_limit:\n",
    "        old_center_matrix_mu = center_matrix_mu\n",
    "        center_matrix_mu = generate_center_matrix(matrix_X,\n",
    "                                                  num_clusters_k,\n",
    "                                                  group_vector)\n",
    "\n",
    "        change = numpy.linalg.norm(old_center_matrix_mu - center_matrix_mu)\n",
    "        group_vector = create_group_vector(matrix_X, center_matrix_mu)\n",
    "        i += 1\n",
    "\n",
    "    return group_vector"
   ]
  },
  {
   "cell_type": "markdown",
   "metadata": {},
   "source": [
    "![title](fig_b.png)"
   ]
  },
  {
   "cell_type": "code",
   "execution_count": 3,
   "metadata": {},
   "outputs": [
    {
     "data": {
      "text/plain": [
       "array([1, 1, 1, 0, 1, 0, 1, 0, 0, 0, 0, 1, 1, 0, 0, 0, 0, 1, 1, 0, 0, 0,\n",
       "       0, 1, 1, 1, 0, 1, 1, 1, 1, 0, 1, 1, 1, 1, 0, 0, 0, 0, 0, 0, 1, 0,\n",
       "       0, 1, 0, 0, 0, 0, 0, 0, 0, 1, 0, 0, 1, 0, 0, 0, 0, 0, 0, 0, 0, 0,\n",
       "       0, 0, 0, 0, 1, 0, 1, 0, 0, 1, 0, 1, 1, 0, 0, 0, 1, 1, 0, 1, 0, 1,\n",
       "       0, 0, 0, 0, 0, 0, 0, 1, 0, 0, 0, 0, 0, 0, 0, 0, 0, 0, 0, 0, 1, 0,\n",
       "       0, 0, 0, 0, 0, 0, 0, 0, 1, 1, 0, 1, 1, 0, 0, 0, 0, 1, 0, 1, 0, 0,\n",
       "       0, 0, 1, 0, 0, 0, 0, 0, 0, 1, 0, 0, 0, 0, 0, 0, 0, 0, 0, 0, 0, 0,\n",
       "       0, 0, 1, 0, 0, 0, 0, 1, 1, 0, 1, 0, 0, 1, 1, 0, 0, 0, 0, 0, 0, 0,\n",
       "       0, 0, 0, 0, 1, 1, 1, 0, 0, 0, 1, 0, 0, 0, 0, 0, 0, 0, 0, 0, 0, 1,\n",
       "       1, 0, 0, 1, 1, 0, 0, 0, 0, 1, 0, 0, 1, 0, 1, 0, 0, 0, 0, 0, 1, 1,\n",
       "       0, 0, 0, 0, 0, 0, 0, 0, 0, 0, 1, 0, 0, 1, 0, 0, 1, 1, 0, 1, 0, 0,\n",
       "       0, 0, 1, 0, 0, 0, 0, 0, 1, 0, 1, 1, 1, 0, 1, 0, 1, 0, 1, 1, 1, 0,\n",
       "       1, 1, 0, 0, 0, 0, 0, 0, 1, 0, 1, 0, 0, 1, 0, 0, 1, 0, 1, 0, 0, 0,\n",
       "       0, 0, 0, 0, 0, 0, 0, 0, 0, 0, 0, 0, 0, 0, 1, 0, 1, 0, 0, 0, 0, 0,\n",
       "       0, 0, 0, 0, 0, 0, 0, 0, 0, 1, 0, 0, 0, 1, 0, 1, 0, 0, 0, 0, 0, 0,\n",
       "       0, 0, 0, 0, 0, 1, 0, 1, 0, 1, 0, 0, 0, 1, 0, 0, 0, 0, 0, 0, 0, 0,\n",
       "       1, 0, 0, 0, 0, 0, 0, 0, 0, 0, 0, 0, 0, 1, 1, 0, 1, 1, 0, 0, 1, 1,\n",
       "       0, 0, 0, 0, 0, 0, 0, 0, 0, 0, 0, 0, 0, 0, 0, 1, 0, 0, 1, 1, 0, 0,\n",
       "       0, 0, 0, 0, 1, 0, 0, 0, 0, 0, 0, 0, 1, 0, 0, 0, 0, 0, 0, 0, 0, 1,\n",
       "       0, 0, 0, 0, 0, 0, 0, 0, 0, 0, 0, 0, 0, 0, 1, 1, 0, 0, 0, 0, 0, 0,\n",
       "       0, 1, 0, 0, 1, 0, 1, 0, 0, 1, 0, 1, 0, 0, 0, 0, 0, 0, 0, 0, 1, 1,\n",
       "       0, 0, 0, 0, 0, 0, 1, 0, 0, 0, 0, 0, 0, 0, 0, 0, 0, 0, 0, 0, 0, 0,\n",
       "       0, 0, 0, 1, 0, 0, 0, 1, 1, 0, 0, 0, 0, 0, 1, 1, 0, 0, 0, 1, 0, 0,\n",
       "       0, 0, 0, 0, 0, 0, 0, 0, 0, 0, 1, 1, 0, 0, 0, 1, 0, 0, 0, 0, 0, 0,\n",
       "       0, 0, 0, 0, 0, 1, 0, 1, 0, 0, 0, 0, 0, 0, 0, 0, 0, 0, 0, 0, 0, 0,\n",
       "       0, 0, 0, 0, 0, 0, 0, 0, 0, 0, 0, 0, 0, 1, 1, 1, 0, 1, 0])"
      ]
     },
     "execution_count": 3,
     "metadata": {},
     "output_type": "execute_result"
    }
   ],
   "source": [
    "NUM_CLUSTERS = 2\n",
    "TOLERANCE = 0.01\n",
    "MAX_ITER = 1000\n",
    "\n",
    "csv_array = numpy.genfromtxt('breast_data.csv', delimiter=',')\n",
    "breast_data_matrix = numpy.matrix(csv_array)\n",
    "\n",
    "# Random partition into k clusters\n",
    "group_vector = numpy.random.randint(NUM_CLUSTERS, size=len(breast_data_matrix))\n",
    "center_matrix_mu = generate_center_matrix(breast_data_matrix,\n",
    "                                          NUM_CLUSTERS,\n",
    "                                          group_vector)\n",
    "\n",
    "k_means_result = perform_k_means_clustering(breast_data_matrix,\n",
    "                                            NUM_CLUSTERS,\n",
    "                                            center_matrix_mu,\n",
    "                                            TOLERANCE, MAX_ITER)\n",
    "\n",
    "k_means_result"
   ]
  },
  {
   "cell_type": "markdown",
   "metadata": {},
   "source": [
    "![title](fig_c.png)"
   ]
  },
  {
   "cell_type": "code",
   "execution_count": 4,
   "metadata": {},
   "outputs": [
    {
     "name": "stdout",
     "output_type": "stream",
     "text": [
      "Accuracy: 99.15%\n"
     ]
    }
   ],
   "source": [
    "def get_accuracy(k_means_result, breast_truth_array):\n",
    "    comparison_vector = k_means_result == breast_truth_array\n",
    "    comparison_counter = collections.Counter(comparison_vector)\n",
    "    accuracy = comparison_counter[True] / len(breast_truth_array)\n",
    "    if accuracy < 50.0:\n",
    "        accuracy = 100 - accuracy  # Take complement if accuracy below 50%\n",
    "\n",
    "    rounded_accuracy = round(accuracy, 2)\n",
    "    return rounded_accuracy\n",
    "\n",
    "\n",
    "csv_array = numpy.genfromtxt('breast_truth.csv', delimiter=',')\n",
    "breast_truth_array = numpy.array(csv_array)\n",
    "\n",
    "accuracy = get_accuracy(k_means_result, breast_truth_array)\n",
    "print(f'Accuracy: {accuracy}%')"
   ]
  },
  {
   "cell_type": "markdown",
   "metadata": {},
   "source": [
    "![title](fig_d.png)"
   ]
  },
  {
   "cell_type": "code",
   "execution_count": 5,
   "metadata": {},
   "outputs": [
    {
     "name": "stdout",
     "output_type": "stream",
     "text": [
      "Choosing entries 68 and 22 as starting centers yields an accuracy of 99.15%\n",
      "Choosing entries 396 and 373 as starting centers yields an accuracy of 99.15%\n",
      "Choosing entries 350 and 320 as starting centers yields an accuracy of 99.15%\n",
      "Choosing entries 210 and 299 as starting centers yields an accuracy of 99.15%\n",
      "Choosing entries 149 and 262 as starting centers yields an accuracy of 99.15%\n",
      "Choosing entries 394 and 331 as starting centers yields an accuracy of 99.15%\n",
      "Choosing entries 154 and 537 as starting centers yields an accuracy of 99.15%\n",
      "Choosing entries 452 and 195 as starting centers yields an accuracy of 99.15%\n",
      "Choosing entries 254 and 567 as starting centers yields an accuracy of 99.15%\n",
      "Choosing entries 38 and 141 as starting centers yields an accuracy of 99.15%\n",
      "Choosing entries 329 and 155 as starting centers yields an accuracy of 99.15%\n",
      "Choosing entries 7 and 89 as starting centers yields an accuracy of 99.15%\n",
      "Choosing entries 498 and 165 as starting centers yields an accuracy of 99.15%\n",
      "Choosing entries 42 and 251 as starting centers yields an accuracy of 99.15%\n",
      "Choosing entries 161 and 30 as starting centers yields an accuracy of 99.15%\n",
      "Choosing entries 261 and 437 as starting centers yields an accuracy of 99.15%\n",
      "Choosing entries 207 and 374 as starting centers yields an accuracy of 99.15%\n",
      "Choosing entries 551 and 187 as starting centers yields an accuracy of 99.15%\n",
      "Choosing entries 556 and 560 as starting centers yields an accuracy of 99.15%\n",
      "Choosing entries 232 and 198 as starting centers yields an accuracy of 99.15%\n",
      "\n",
      "The results do not change no matter which feature vectors I use as my starting centers.\n",
      "This suggests that the only local optimum is also a global optimum.\n"
     ]
    }
   ],
   "source": [
    "for i in range(20):\n",
    "    # Pick random feature vectors\n",
    "    random_entries = numpy.random.randint(\n",
    "        len(breast_data_matrix),\n",
    "        size=NUM_CLUSTERS\n",
    "    )\n",
    "\n",
    "    random_center_matrix = breast_data_matrix[random_entries, :]\n",
    "    k_means_result = perform_k_means_clustering(breast_data_matrix,\n",
    "                                                NUM_CLUSTERS,\n",
    "                                                center_matrix_mu,\n",
    "                                                TOLERANCE,\n",
    "                                                MAX_ITER)\n",
    "\n",
    "    accuracy = get_accuracy(k_means_result, breast_truth_array)\n",
    "    print(f'Choosing entries {random_entries[0]} and {random_entries[1]} '\n",
    "          f'as starting centers yields an accuracy of {accuracy}%')\n",
    "\n",
    "print('\\nThe results do not change no matter which feature vectors I use as my '\n",
    "      'starting centers.\\nThis suggests that the only local optimum is also a '\n",
    "      'global optimum.')"
   ]
  },
  {
   "cell_type": "markdown",
   "metadata": {},
   "source": [
    "![title](fig_e.png)"
   ]
  },
  {
   "cell_type": "code",
   "execution_count": 6,
   "metadata": {},
   "outputs": [
    {
     "name": "stdout",
     "output_type": "stream",
     "text": [
      "Accuracy: 99.85%\n"
     ]
    }
   ],
   "source": [
    "data = scipy.io.loadmat('mu_init.mat')\n",
    "mu_init_array = data['mu_init'].transpose()\n",
    "center_matrix_mu = numpy.matrix(mu_init_array)\n",
    "k_means_result = perform_k_means_clustering(breast_data_matrix,\n",
    "                                            NUM_CLUSTERS,\n",
    "                                            center_matrix_mu,\n",
    "                                            TOLERANCE, MAX_ITER)\n",
    "\n",
    "accuracy = get_accuracy(k_means_result, breast_truth_array)\n",
    "print(f'Accuracy: {accuracy}%')"
   ]
  },
  {
   "cell_type": "markdown",
   "metadata": {},
   "source": [
    "![title](fig_f1.png)"
   ]
  },
  {
   "cell_type": "code",
   "execution_count": null,
   "metadata": {},
   "outputs": [
    {
     "name": "stdout",
     "output_type": "stream",
     "text": [
      "Accuracy: 99.15%\n"
     ]
    }
   ],
   "source": [
    "center_matrix_mu = generate_center_matrix(breast_data_matrix,\n",
    "                                          NUM_CLUSTERS,\n",
    "                                          breast_truth_array)\n",
    "\n",
    "k_means_result = perform_k_means_clustering(breast_data_matrix,\n",
    "                                            NUM_CLUSTERS,\n",
    "                                            center_matrix_mu,\n",
    "                                            TOLERANCE, MAX_ITER)\n",
    "\n",
    "accuracy = get_accuracy(k_means_result, breast_truth_array)\n",
    "print(f'Accuracy: {accuracy}%')"
   ]
  },
  {
   "cell_type": "markdown",
   "metadata": {},
   "source": [
    "![title](fig_g.png)"
   ]
  },
  {
   "cell_type": "code",
   "execution_count": null,
   "metadata": {},
   "outputs": [
    {
     "name": "stderr",
     "output_type": "stream",
     "text": [
      "/Users/benjamincrom/repos/fds_homework/predictive_data_analytics_mini_project_3/cs6980_mini_project_2.py:11: RuntimeWarning: divide by zero encountered in log\n",
      "  for i in range(len(X))\n"
     ]
    }
   ],
   "source": [
    "import cs6980_mini_project_2\n",
    "\n",
    "# ======================== LOAD DATA ========================\n",
    "X = numpy.genfromtxt('breast_data.csv', delimiter=',')\n",
    "Y = numpy.genfromtxt('breast_truth.csv', delimiter=',')\n",
    "\n",
    "# ======================= SPLIT DATA ========================\n",
    "is_training = numpy.random.randint(0, 5, len(X)) > 0\n",
    "is_test = numpy.invert(is_training)\n",
    "Y_train = Y[is_training]\n",
    "X_train = X[is_training]\n",
    "Y_test = Y[is_test]\n",
    "X_test = X[is_test]\n",
    "\n",
    "# ==================== GRADIENT ASCENT ======================\n",
    "eta = 0.0000001\n",
    "tol = 0.0017\n",
    "beta = numpy.array([0] * 30)\n",
    "beta, l_beta = cs6980_mini_project_2.gradient_ascent(X_train,\n",
    "                                                     Y_train,\n",
    "                                                     beta,\n",
    "                                                     eta,\n",
    "                                                     tol)\n",
    "\n",
    "# ========================== TEST ===========================\n",
    "Y_hat = cs6980_mini_project_2.classify_logReg(X_test, beta)\n",
    "accuracy = get_accuracy(Y_hat, Y_test)\n",
    "print('Supervised Approach: Logistic regression yields an accuracy of '\n",
    "      f'{accuracy}%\\n\\n'\n",
    "      'Unsupervised Approach: I do not know of any unsupervised clustering\\n'\n",
    "      'algorithm which would achieve a higher accuracy.')"
   ]
  }
 ],
 "metadata": {
  "kernelspec": {
   "display_name": "Python 3",
   "language": "python",
   "name": "python3"
  },
  "language_info": {
   "codemirror_mode": {
    "name": "ipython",
    "version": 3
   },
   "file_extension": ".py",
   "mimetype": "text/x-python",
   "name": "python",
   "nbconvert_exporter": "python",
   "pygments_lexer": "ipython3",
   "version": "3.6.4"
  }
 },
 "nbformat": 4,
 "nbformat_minor": 2
}
