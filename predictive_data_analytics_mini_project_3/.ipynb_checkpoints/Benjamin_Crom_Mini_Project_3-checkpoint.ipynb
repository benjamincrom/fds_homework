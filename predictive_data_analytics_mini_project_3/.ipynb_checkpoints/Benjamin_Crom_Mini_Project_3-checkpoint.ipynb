{
 "cells": [
  {
   "cell_type": "markdown",
   "metadata": {},
   "source": [
    "### Benjamin Crom (Panther# 002-36-7349)\n",
    "__Mini-Project 3: K-means Clustering and Breast Cancer__<br>\n",
    "__CS 6980: Introduction to Data Science__<br>\n",
    "__26 February 2018__"
   ]
  },
  {
   "cell_type": "markdown",
   "metadata": {
    "collapsed": true
   },
   "source": [
    "![title](assignment.png)"
   ]
  },
  {
   "cell_type": "code",
   "execution_count": 1,
   "metadata": {
    "collapsed": true
   },
   "outputs": [],
   "source": [
    "import collections\n",
    "import numpy\n",
    "import scipy.io"
   ]
  },
  {
   "cell_type": "markdown",
   "metadata": {},
   "source": [
    "![title](fig_a1.png)"
   ]
  },
  {
   "cell_type": "code",
   "execution_count": 2,
   "metadata": {
    "collapsed": true
   },
   "outputs": [],
   "source": [
    "def create_group_vector(matrix_X, center_matrix_mu):\n",
    "    \"\"\"Assign points to current centers\"\"\"\n",
    "    group_list = []\n",
    "    for this_feature_vector in matrix_X:\n",
    "        nearest_center_vector_index = None\n",
    "        min_distance = None\n",
    "        for i, this_center_vector in enumerate(center_matrix_mu):\n",
    "            this_distance = numpy.linalg.norm(this_feature_vector - this_center_vector)\n",
    "            if not min_distance or this_distance < min_distance:\n",
    "                min_distance = this_distance\n",
    "                nearest_center_vector_index = i\n",
    "\n",
    "        if nearest_center_vector_index is not None:\n",
    "            group_list.append(nearest_center_vector_index)\n",
    "        else:\n",
    "            raise ValueError('No nearest center vector value')\n",
    "\n",
    "    group_vector = numpy.array(group_list)\n",
    "    return group_vector\n",
    "\n",
    "\n",
    "def generate_center_matrix(matrix_X, num_clusters_k, group_vector):\n",
    "    \"\"\"Recalculate centers\"\"\"\n",
    "    new_center_vector_list = []\n",
    "    for i in range(num_clusters_k):\n",
    "        group_feature_matrix = matrix_X[group_vector == i]\n",
    "        group_centroid = group_feature_matrix.mean(axis=0)\n",
    "        new_center_vector_list.append(group_centroid)\n",
    "\n",
    "    center_vector_array = numpy.array(new_center_vector_list)\n",
    "    center_matrix_mu = numpy.matrix(center_vector_array)\n",
    "    return center_matrix_mu\n",
    "\n",
    "\n",
    "def perform_k_means_clustering(matrix_X, num_clusters_k, center_matrix_mu, tolerance, max_iteration_limit):\n",
    "    group_vector = create_group_vector(matrix_X, center_matrix_mu)\n",
    "    change = tolerance + 1\n",
    "    old_center_matrix_mu = None\n",
    "    i = 0\n",
    "    while change > tolerance and i < max_iteration_limit:\n",
    "        old_center_matrix_mu = center_matrix_mu\n",
    "        center_matrix_mu = generate_center_matrix(matrix_X, num_clusters_k, group_vector)\n",
    "        change = numpy.linalg.norm(old_center_matrix_mu - center_matrix_mu)\n",
    "        group_vector = create_group_vector(matrix_X, center_matrix_mu)            \n",
    "        i += 1\n",
    "\n",
    "    return group_vector"
   ]
  },
  {
   "cell_type": "markdown",
   "metadata": {},
   "source": [
    "![title](fig_b.png)"
   ]
  },
  {
   "cell_type": "code",
   "execution_count": 3,
   "metadata": {},
   "outputs": [
    {
     "data": {
      "text/plain": [
       "array([0, 0, 0, 1, 0, 1, 0, 1, 1, 1, 1, 0, 0, 1, 1, 1, 1, 0, 0, 1, 1, 1,\n",
       "       1, 0, 0, 0, 1, 0, 0, 0, 0, 1, 0, 0, 0, 0, 1, 1, 1, 1, 1, 1, 0, 1,\n",
       "       1, 0, 1, 1, 1, 1, 1, 1, 1, 0, 1, 1, 0, 1, 1, 1, 1, 1, 1, 1, 1, 1,\n",
       "       1, 1, 1, 1, 0, 1, 0, 1, 1, 0, 1, 0, 0, 1, 1, 1, 0, 0, 1, 0, 1, 0,\n",
       "       1, 1, 1, 1, 1, 1, 1, 0, 1, 1, 1, 1, 1, 1, 1, 1, 1, 1, 1, 1, 0, 1,\n",
       "       1, 1, 1, 1, 1, 1, 1, 1, 0, 0, 1, 0, 0, 1, 1, 1, 1, 0, 1, 0, 1, 1,\n",
       "       1, 1, 0, 1, 1, 1, 1, 1, 1, 0, 1, 1, 1, 1, 1, 1, 1, 1, 1, 1, 1, 1,\n",
       "       1, 1, 0, 1, 1, 1, 1, 0, 0, 1, 0, 1, 1, 0, 0, 1, 1, 1, 1, 1, 1, 1,\n",
       "       1, 1, 1, 1, 0, 0, 0, 1, 1, 1, 0, 1, 1, 1, 1, 1, 1, 1, 1, 1, 1, 0,\n",
       "       0, 1, 1, 0, 0, 1, 1, 1, 1, 0, 1, 1, 0, 1, 0, 1, 1, 1, 1, 1, 0, 0,\n",
       "       1, 1, 1, 1, 1, 1, 1, 1, 1, 1, 0, 1, 1, 0, 1, 1, 0, 0, 1, 0, 1, 1,\n",
       "       1, 1, 0, 1, 1, 1, 1, 1, 0, 1, 0, 0, 0, 1, 0, 1, 0, 1, 0, 0, 0, 1,\n",
       "       0, 0, 1, 1, 1, 1, 1, 1, 0, 1, 0, 1, 1, 0, 1, 1, 0, 1, 0, 1, 1, 1,\n",
       "       1, 1, 1, 1, 1, 1, 1, 1, 1, 1, 1, 1, 1, 1, 0, 1, 0, 1, 1, 1, 1, 1,\n",
       "       1, 1, 1, 1, 1, 1, 1, 1, 1, 0, 1, 1, 1, 0, 1, 0, 1, 1, 1, 1, 1, 1,\n",
       "       1, 1, 1, 1, 1, 0, 1, 0, 1, 0, 1, 1, 1, 0, 1, 1, 1, 1, 1, 1, 1, 1,\n",
       "       0, 1, 1, 1, 1, 1, 1, 1, 1, 1, 1, 1, 1, 0, 0, 1, 0, 0, 1, 1, 0, 0,\n",
       "       1, 1, 1, 1, 1, 1, 1, 1, 1, 1, 1, 1, 1, 1, 1, 0, 1, 1, 0, 0, 1, 1,\n",
       "       1, 1, 1, 1, 0, 1, 1, 1, 1, 1, 1, 1, 0, 1, 1, 1, 1, 1, 1, 1, 1, 0,\n",
       "       1, 1, 1, 1, 1, 1, 1, 1, 1, 1, 1, 1, 1, 1, 0, 0, 1, 1, 1, 1, 1, 1,\n",
       "       1, 0, 1, 1, 0, 1, 0, 1, 1, 0, 1, 0, 1, 1, 1, 1, 1, 1, 1, 1, 0, 0,\n",
       "       1, 1, 1, 1, 1, 1, 0, 1, 1, 1, 1, 1, 1, 1, 1, 1, 1, 1, 1, 1, 1, 1,\n",
       "       1, 1, 1, 0, 1, 1, 1, 0, 0, 1, 1, 1, 1, 1, 0, 0, 1, 1, 1, 0, 1, 1,\n",
       "       1, 1, 1, 1, 1, 1, 1, 1, 1, 1, 0, 0, 1, 1, 1, 0, 1, 1, 1, 1, 1, 1,\n",
       "       1, 1, 1, 1, 1, 0, 1, 0, 1, 1, 1, 1, 1, 1, 1, 1, 1, 1, 1, 1, 1, 1,\n",
       "       1, 1, 1, 1, 1, 1, 1, 1, 1, 1, 1, 1, 1, 0, 0, 0, 1, 0, 1])"
      ]
     },
     "execution_count": 3,
     "metadata": {},
     "output_type": "execute_result"
    }
   ],
   "source": [
    "NUM_CLUSTERS = 2\n",
    "TOLERANCE = 0.01\n",
    "MAX_ITER = 1000\n",
    "\n",
    "csv_array = numpy.genfromtxt('breast_data.csv', delimiter=',')\n",
    "breast_data_matrix = numpy.matrix(csv_array)\n",
    "\n",
    "group_vector = numpy.random.randint(NUM_CLUSTERS, size=len(breast_data_matrix))  # Random partition into k clusters\n",
    "center_matrix_mu = generate_center_matrix(breast_data_matrix, NUM_CLUSTERS, group_vector)\n",
    "\n",
    "k_means_result = perform_k_means_clustering(breast_data_matrix, NUM_CLUSTERS, center_matrix_mu, TOLERANCE, MAX_ITER)\n",
    "k_means_result"
   ]
  },
  {
   "cell_type": "markdown",
   "metadata": {},
   "source": [
    "![title](fig_c.png)"
   ]
  },
  {
   "cell_type": "code",
   "execution_count": 4,
   "metadata": {},
   "outputs": [
    {
     "name": "stdout",
     "output_type": "stream",
     "text": [
      "Accuracy: 85.41%\n"
     ]
    }
   ],
   "source": [
    "def get_accuracy(k_means_result, breast_truth_array):\n",
    "    accuracy = round(100 * collections.Counter(k_means_result == breast_truth_array)[True] / len(breast_truth_array),\n",
    "                     2)\n",
    "\n",
    "    if accuracy < 50.0:\n",
    "        accuracy = 100 - accuracy  # Take complement if accuracy below 50%\n",
    "        \n",
    "    return accuracy\n",
    "\n",
    "\n",
    "csv_array = numpy.genfromtxt('breast_truth.csv', delimiter=',')\n",
    "breast_truth_array = numpy.array(csv_array)\n",
    "\n",
    "accuracy = get_accuracy(k_means_result, breast_truth_array)\n",
    "print(f'Accuracy: {accuracy}%')"
   ]
  },
  {
   "cell_type": "markdown",
   "metadata": {},
   "source": [
    "![title](fig_d.png)"
   ]
  },
  {
   "cell_type": "code",
   "execution_count": 5,
   "metadata": {},
   "outputs": [
    {
     "name": "stdout",
     "output_type": "stream",
     "text": [
      "Choosing entries 63 and 215 as starting centers yields an accuracy of 85.41%\n",
      "Choosing entries 123 and 161 as starting centers yields an accuracy of 85.41%\n",
      "Choosing entries 38 and 473 as starting centers yields an accuracy of 85.41%\n",
      "Choosing entries 114 and 138 as starting centers yields an accuracy of 85.41%\n",
      "Choosing entries 231 and 192 as starting centers yields an accuracy of 85.41%\n",
      "Choosing entries 40 and 78 as starting centers yields an accuracy of 85.41%\n",
      "Choosing entries 563 and 250 as starting centers yields an accuracy of 85.41%\n",
      "Choosing entries 392 and 497 as starting centers yields an accuracy of 85.41%\n",
      "Choosing entries 556 and 560 as starting centers yields an accuracy of 85.41%\n",
      "Choosing entries 498 and 475 as starting centers yields an accuracy of 85.41%\n",
      "Choosing entries 136 and 216 as starting centers yields an accuracy of 85.41%\n",
      "Choosing entries 378 and 300 as starting centers yields an accuracy of 85.41%\n",
      "Choosing entries 152 and 459 as starting centers yields an accuracy of 85.41%\n",
      "Choosing entries 292 and 471 as starting centers yields an accuracy of 85.41%\n",
      "Choosing entries 442 and 275 as starting centers yields an accuracy of 85.41%\n",
      "Choosing entries 299 and 313 as starting centers yields an accuracy of 85.41%\n",
      "Choosing entries 343 and 254 as starting centers yields an accuracy of 85.41%\n",
      "Choosing entries 311 and 312 as starting centers yields an accuracy of 85.41%\n",
      "Choosing entries 362 and 216 as starting centers yields an accuracy of 85.41%\n",
      "Choosing entries 358 and 563 as starting centers yields an accuracy of 85.41%\n",
      "\n",
      "The results do not change no matter which feature vectors I use as my starting centers.\n",
      "This suggests that the only local optimum is also a global optimum.\n"
     ]
    }
   ],
   "source": [
    "for i in range(20):\n",
    "    random_entries = numpy.random.randint(len(breast_data_matrix), size=NUM_CLUSTERS)  # Pick random feature vectors\n",
    "    random_center_matrix = breast_data_matrix[random_entries,:]\n",
    "    k_means_result = perform_k_means_clustering(breast_data_matrix, NUM_CLUSTERS, center_matrix_mu, TOLERANCE,\n",
    "                                                MAX_ITER)\n",
    "\n",
    "    accuracy = get_accuracy(k_means_result, breast_truth_array)\n",
    "    print(f'Choosing entries {random_entries[0]} and {random_entries[1]} as starting centers '\n",
    "          f'yields an accuracy of {accuracy}%')\n",
    "\n",
    "print('')\n",
    "print('The results do not change no matter which feature vectors I use as my starting centers.')\n",
    "print('This suggests that the only local optimum is also a global optimum.')"
   ]
  },
  {
   "cell_type": "markdown",
   "metadata": {},
   "source": [
    "![title](fig_e.png)"
   ]
  },
  {
   "cell_type": "code",
   "execution_count": 6,
   "metadata": {},
   "outputs": [
    {
     "name": "stdout",
     "output_type": "stream",
     "text": [
      "Accuracy: 85.41%\n"
     ]
    }
   ],
   "source": [
    "data = scipy.io.loadmat('mu_init.mat')\n",
    "mu_init_array = data['mu_init'].transpose()\n",
    "center_matrix_mu = numpy.matrix(mu_init_array)\n",
    "k_means_result = perform_k_means_clustering(breast_data_matrix, NUM_CLUSTERS, center_matrix_mu, TOLERANCE, MAX_ITER)\n",
    "accuracy = get_accuracy(k_means_result, breast_truth_array)\n",
    "print(f'Accuracy: {accuracy}%')"
   ]
  },
  {
   "cell_type": "markdown",
   "metadata": {},
   "source": [
    "![title](fig_f1.png)"
   ]
  },
  {
   "cell_type": "code",
   "execution_count": 7,
   "metadata": {},
   "outputs": [
    {
     "name": "stdout",
     "output_type": "stream",
     "text": [
      "Accuracy: 85.41%\n"
     ]
    }
   ],
   "source": [
    "center_matrix_mu = generate_center_matrix(breast_data_matrix, NUM_CLUSTERS, breast_truth_array)\n",
    "k_means_result = perform_k_means_clustering(breast_data_matrix, NUM_CLUSTERS, center_matrix_mu, TOLERANCE, MAX_ITER)\n",
    "accuracy = get_accuracy(k_means_result, breast_truth_array)\n",
    "print(f'Accuracy: {accuracy}%')"
   ]
  },
  {
   "cell_type": "markdown",
   "metadata": {},
   "source": [
    "![title](fig_g.png)"
   ]
  },
  {
   "cell_type": "code",
   "execution_count": 8,
   "metadata": {},
   "outputs": [
    {
     "name": "stdout",
     "output_type": "stream",
     "text": [
      "Supervised Approach: Logistic regression yields an accuracy of 92.37%\n",
      "\n",
      "Unsupervised Approach: I do not know of any unsupervised clustering algorithm which would achieve a higher accuracy.\n"
     ]
    }
   ],
   "source": [
    "import cs6980_mini_project_2\n",
    "\n",
    "# ======================== LOAD DATA ========================\n",
    "X = numpy.genfromtxt('breast_data.csv', delimiter=',')\n",
    "Y = numpy.genfromtxt('breast_truth.csv', delimiter=',')\n",
    "\n",
    "# ======================= SPLIT DATA ========================\n",
    "is_training = numpy.random.randint(0, 5, len(X)) > 0\n",
    "is_test = numpy.invert(is_training)\n",
    "Y_train = Y[is_training]\n",
    "X_train = X[is_training]\n",
    "Y_test = Y[is_test]\n",
    "X_test = X[is_test]\n",
    "\n",
    "# ==================== GRADIENT ASCENT ======================\n",
    "eta = 0.0000001\n",
    "tol = 0.0017\n",
    "beta = numpy.array([0] * 30)\n",
    "beta, l_beta = cs6980_mini_project_2.gradient_ascent(X_train, Y_train, beta, eta, tol)\n",
    "\n",
    "# ========================== TEST ===========================\n",
    "Y_hat = cs6980_mini_project_2.classify_logReg(X_test, beta)\n",
    "accuracy = get_accuracy(Y_hat, Y_test)\n",
    "print(f'Supervised Approach: Logistic regression yields an accuracy of {accuracy}%')\n",
    "print('')\n",
    "print('Unsupervised Approach: I do not know of any unsupervised clustering algorithm '\n",
    "      'which would achieve a higher accuracy.')"
   ]
  },
  {
   "cell_type": "code",
   "execution_count": null,
   "metadata": {
    "collapsed": true
   },
   "outputs": [],
   "source": []
  }
 ],
 "metadata": {
  "kernelspec": {
   "display_name": "Python 3",
   "language": "python",
   "name": "python3"
  },
  "language_info": {
   "codemirror_mode": {
    "name": "ipython",
    "version": 3
   },
   "file_extension": ".py",
   "mimetype": "text/x-python",
   "name": "python",
   "nbconvert_exporter": "python",
   "pygments_lexer": "ipython3",
   "version": "3.6.4"
  }
 },
 "nbformat": 4,
 "nbformat_minor": 2
}
