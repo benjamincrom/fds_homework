{
 "cells": [
  {
   "cell_type": "markdown",
   "metadata": {},
   "source": [
    "### Benjamin Crom (Panther# 002-36-7349)\n",
    "__Mini-Project 4: Data Science & Information Theory__<br>\n",
    "__CS 6980: Introduction to Data Science__<br>\n",
    "__19 March 2018__<br>\n",
    "__Access online: https://goo.gl/ERtB9z__"
   ]
  },
  {
   "cell_type": "markdown",
   "metadata": {},
   "source": [
    "![title](assignment.png)"
   ]
  },
  {
   "cell_type": "markdown",
   "metadata": {},
   "source": [
    "![title](fig_a.png)"
   ]
  },
  {
   "cell_type": "code",
   "execution_count": 1,
   "metadata": {},
   "outputs": [
    {
     "data": {
      "text/plain": [
       "Counter({'\\n': 16273,\n",
       "         ' ': 126966,\n",
       "         '!': 955,\n",
       "         '\"': 5681,\n",
       "         '#': 1,\n",
       "         '$': 2,\n",
       "         '%': 1,\n",
       "         \"'\": 1269,\n",
       "         '(': 151,\n",
       "         ')': 151,\n",
       "         '*': 90,\n",
       "         ',': 13275,\n",
       "         '-': 2429,\n",
       "         '.': 6815,\n",
       "         '/': 24,\n",
       "         '0': 21,\n",
       "         '1': 65,\n",
       "         '2': 16,\n",
       "         '3': 14,\n",
       "         '4': 10,\n",
       "         '5': 13,\n",
       "         '6': 9,\n",
       "         '7': 14,\n",
       "         '8': 14,\n",
       "         '9': 18,\n",
       "         ':': 271,\n",
       "         ';': 1108,\n",
       "         '?': 913,\n",
       "         '@': 2,\n",
       "         'A': 898,\n",
       "         'B': 535,\n",
       "         'C': 755,\n",
       "         'D': 990,\n",
       "         'E': 413,\n",
       "         'F': 437,\n",
       "         'G': 385,\n",
       "         'H': 886,\n",
       "         'I': 2876,\n",
       "         'J': 282,\n",
       "         'K': 54,\n",
       "         'L': 835,\n",
       "         'M': 1625,\n",
       "         'N': 413,\n",
       "         'O': 328,\n",
       "         'P': 496,\n",
       "         'Q': 29,\n",
       "         'R': 220,\n",
       "         'S': 897,\n",
       "         'T': 1695,\n",
       "         'U': 81,\n",
       "         'V': 115,\n",
       "         'W': 605,\n",
       "         'X': 60,\n",
       "         'Y': 438,\n",
       "         '[': 3,\n",
       "         ']': 3,\n",
       "         '_': 182,\n",
       "         'a': 47276,\n",
       "         'b': 7888,\n",
       "         'c': 13148,\n",
       "         'd': 27059,\n",
       "         'e': 74433,\n",
       "         'f': 13126,\n",
       "         'g': 12163,\n",
       "         'h': 38090,\n",
       "         'i': 38145,\n",
       "         'j': 433,\n",
       "         'k': 4733,\n",
       "         'l': 21214,\n",
       "         'm': 13672,\n",
       "         'n': 41974,\n",
       "         'o': 46209,\n",
       "         'p': 9465,\n",
       "         'q': 637,\n",
       "         'r': 36994,\n",
       "         's': 36694,\n",
       "         't': 52361,\n",
       "         'u': 16659,\n",
       "         'v': 5089,\n",
       "         'w': 13516,\n",
       "         'x': 663,\n",
       "         'y': 11749,\n",
       "         'z': 215})"
      ]
     },
     "execution_count": 1,
     "metadata": {},
     "output_type": "execute_result"
    }
   ],
   "source": [
    "import collections\n",
    "import math\n",
    "\n",
    "\n",
    "with open('tale_of_two_cities.txt') as filehandle:\n",
    "    text_str = filehandle.read()\n",
    "\n",
    "character_counter = collections.Counter(text_str)\n",
    "character_counter"
   ]
  },
  {
   "cell_type": "markdown",
   "metadata": {},
   "source": [
    "![title](fig_b.png)"
   ]
  },
  {
   "cell_type": "code",
   "execution_count": 2,
   "metadata": {},
   "outputs": [
    {
     "data": {
      "text/plain": [
       "{'\\n': 0.020951137616001814,\n",
       " ' ': 0.16346599511788154,\n",
       " '!': 0.001229541966649157,\n",
       " '\"': 0.007314165353438598,\n",
       " '#': 1.2874784991090648e-06,\n",
       " '$': 2.5749569982181296e-06,\n",
       " '%': 1.2874784991090648e-06,\n",
       " \"'\": 0.0016338102153694034,\n",
       " '(': 0.00019440925336546878,\n",
       " ')': 0.00019440925336546878,\n",
       " '*': 0.00011587306491981584,\n",
       " ',': 0.017091277075672838,\n",
       " '-': 0.0031272852743359186,\n",
       " '.': 0.008774165971428277,\n",
       " '/': 3.0899483978617555e-05,\n",
       " '0': 2.7037048481290362e-05,\n",
       " '1': 8.368610244208922e-05,\n",
       " '2': 2.0599655985745037e-05,\n",
       " '3': 1.802469898752691e-05,\n",
       " '4': 1.2874784991090648e-05,\n",
       " '5': 1.6737220488417843e-05,\n",
       " '6': 1.1587306491981584e-05,\n",
       " '7': 1.802469898752691e-05,\n",
       " '8': 1.802469898752691e-05,\n",
       " '9': 2.3174612983963168e-05,\n",
       " ':': 0.0003489066732585566,\n",
       " ';': 0.0014265261770128438,\n",
       " '?': 0.0011754678696865761,\n",
       " '@': 2.5749569982181296e-06,\n",
       " 'A': 0.0011561556921999402,\n",
       " 'B': 0.0006888009970233497,\n",
       " 'C': 0.000972046266827344,\n",
       " 'D': 0.0012746037141179742,\n",
       " 'E': 0.0005317286201320438,\n",
       " 'F': 0.0005626281041106613,\n",
       " 'G': 0.00049567922215699,\n",
       " 'H': 0.0011407059502106314,\n",
       " 'I': 0.0037027881634376708,\n",
       " 'J': 0.0003630689367487563,\n",
       " 'K': 6.95238389518895e-05,\n",
       " 'L': 0.0010750445467560693,\n",
       " 'M': 0.0020921525610522306,\n",
       " 'N': 0.0005317286201320438,\n",
       " 'O': 0.00042229294770777326,\n",
       " 'P': 0.0006385893355580961,\n",
       " 'Q': 3.7336876474162884e-05,\n",
       " 'R': 0.00028324526980399425,\n",
       " 'S': 0.0011548682137008312,\n",
       " 'T': 0.002182276055989865,\n",
       " 'U': 0.00010428575842783426,\n",
       " 'V': 0.00014806002739754245,\n",
       " 'W': 0.0007789244919609843,\n",
       " 'X': 7.72487099465439e-05,\n",
       " 'Y': 0.0005639155826097704,\n",
       " '[': 3.862435497327194e-06,\n",
       " ']': 3.862435497327194e-06,\n",
       " '_': 0.0002343210868378498,\n",
       " 'a': 0.06086683352388015,\n",
       " 'b': 0.010155630400972305,\n",
       " 'c': 0.016927767306285986,\n",
       " 'd': 0.03483788070739219,\n",
       " 'e': 0.09583088712418503,\n",
       " 'f': 0.016899442779305586,\n",
       " 'g': 0.015659600984663555,\n",
       " 'h': 0.04904005603106428,\n",
       " 'i': 0.04911086734851528,\n",
       " 'j': 0.0005574781901142251,\n",
       " 'k': 0.006093635736283204,\n",
       " 'l': 0.027312568880099704,\n",
       " 'm': 0.017602406039819135,\n",
       " 'n': 0.05404062252160389,\n",
       " 'o': 0.05949309396533078,\n",
       " 'p': 0.0121859839940673,\n",
       " 'q': 0.0008201238039324744,\n",
       " 'r': 0.047628979596040746,\n",
       " 's': 0.04724273604630803,\n",
       " 't': 0.06741366169184974,\n",
       " 'u': 0.02144810431665791,\n",
       " 'v': 0.006551978081966031,\n",
       " 'w': 0.01740155939395812,\n",
       " 'x': 0.00085359824490931,\n",
       " 'y': 0.015126584886032404,\n",
       " 'z': 0.00027680787730844893}"
      ]
     },
     "execution_count": 2,
     "metadata": {},
     "output_type": "execute_result"
    }
   ],
   "source": [
    "character_probability_dict = {character: count / len(text_str) for character, count in character_counter.items()}\n",
    "character_probability_dict"
   ]
  },
  {
   "cell_type": "markdown",
   "metadata": {},
   "source": [
    "![title](fig_c.png)"
   ]
  },
  {
   "cell_type": "code",
   "execution_count": 3,
   "metadata": {},
   "outputs": [
    {
     "data": {
      "text/plain": [
       "4.482967412507461"
      ]
     },
     "execution_count": 3,
     "metadata": {},
     "output_type": "execute_result"
    }
   ],
   "source": [
    "def compute_entropy(probability_dict):\n",
    "    return sum(probability_dict[character] * math.log2(1 / probability_dict[character])\n",
    "               for character in probability_dict.keys())\n",
    "\n",
    "entropy_of_character = compute_entropy(character_probability_dict)\n",
    "entropy_of_character"
   ]
  },
  {
   "cell_type": "markdown",
   "metadata": {},
   "source": [
    "![title](fig_d.png)"
   ]
  },
  {
   "cell_type": "code",
   "execution_count": 4,
   "metadata": {},
   "outputs": [
    {
     "data": {
      "text/plain": [
       "3481974.584903495"
      ]
     },
     "execution_count": 4,
     "metadata": {},
     "output_type": "execute_result"
    }
   ],
   "source": [
    "overall_book_entropy = entropy_of_character * len(text_str)\n",
    "overall_book_entropy"
   ]
  },
  {
   "cell_type": "markdown",
   "metadata": {},
   "source": [
    "![title](fig_e1.png)"
   ]
  },
  {
   "cell_type": "markdown",
   "metadata": {},
   "source": [
    "![title](casablanca.png)"
   ]
  },
  {
   "cell_type": "code",
   "execution_count": 5,
   "metadata": {
    "collapsed": true,
    "scrolled": true
   },
   "outputs": [],
   "source": [
    "with open('casablanca.pgm') as filehandle:\n",
    "    image_line_list = filehandle.readlines()[3:]  # Remove headers\n",
    "\n",
    "pixel_list = [int(value) for line in image_line_list for value in line.split()]\n",
    "pixel_counter = collections.Counter(pixel_list)"
   ]
  },
  {
   "cell_type": "markdown",
   "metadata": {},
   "source": [
    "![title](fig_f.png)"
   ]
  },
  {
   "cell_type": "code",
   "execution_count": 10,
   "metadata": {
    "collapsed": true
   },
   "outputs": [],
   "source": [
    "pixel_probability_dict = {character: count / len(text_str) for character, count in pixel_counter.items()}"
   ]
  },
  {
   "cell_type": "markdown",
   "metadata": {},
   "source": [
    "![title](fig_g.png)"
   ]
  },
  {
   "cell_type": "code",
   "execution_count": 7,
   "metadata": {},
   "outputs": [
    {
     "data": {
      "text/plain": [
       "2.138899704436983"
      ]
     },
     "execution_count": 7,
     "metadata": {},
     "output_type": "execute_result"
    }
   ],
   "source": [
    "entropy_of_pixel = compute_entropy(pixel_probability_dict)\n",
    "entropy_of_pixel"
   ]
  },
  {
   "cell_type": "markdown",
   "metadata": {},
   "source": [
    "![title](fig_h.png)"
   ]
  },
  {
   "cell_type": "code",
   "execution_count": 8,
   "metadata": {},
   "outputs": [
    {
     "data": {
      "text/plain": [
       "354201.79105476436"
      ]
     },
     "execution_count": 8,
     "metadata": {},
     "output_type": "execute_result"
    }
   ],
   "source": [
    "overall_image_entropy = entropy_of_pixel * len(pixel_list)\n",
    "overall_image_entropy"
   ]
  },
  {
   "cell_type": "markdown",
   "metadata": {},
   "source": [
    "![title](fig_i.png)"
   ]
  },
  {
   "cell_type": "code",
   "execution_count": 9,
   "metadata": {},
   "outputs": [
    {
     "data": {
      "text/plain": [
       "True"
      ]
     },
     "execution_count": 9,
     "metadata": {},
     "output_type": "execute_result"
    }
   ],
   "source": [
    "overall_book_entropy > overall_image_entropy"
   ]
  },
  {
   "cell_type": "markdown",
   "metadata": {},
   "source": [
    "![title](fig_j.png)"
   ]
  },
  {
   "cell_type": "markdown",
   "metadata": {},
   "source": [
    "**I believe that while these are difficult media to compare to one another, an attempt must be made to do this.  Written language characters benefit from an enormous amount of context.  The word \"chair\" can recall an abstraction of a chair containing a great deal of information.  That information is subjective to the reader and is not specific.  An image, however, is objectively specific and requires very little context and training in order to access its information.  For that reason, these two media are difficult to compare in terms of quantifying their respective information content.  Due to their objective nature, images have great power to resolve conflicts originating from implicit assumptions.  This is likely why the phrase \"A picture is worth 1000 words\" has so much heft.  Thus, I believe that this is a fair, if difficult, comparison.  Even if an image is worth 1000 words, these calculations suggest it probably isn't worth 135,000 words.**"
   ]
  }
 ],
 "metadata": {
  "kernelspec": {
   "display_name": "Python 3",
   "language": "python",
   "name": "python3"
  },
  "language_info": {
   "codemirror_mode": {
    "name": "ipython",
    "version": 3
   },
   "file_extension": ".py",
   "mimetype": "text/x-python",
   "name": "python",
   "nbconvert_exporter": "python",
   "pygments_lexer": "ipython3",
   "version": "3.6.4"
  }
 },
 "nbformat": 4,
 "nbformat_minor": 2
}
